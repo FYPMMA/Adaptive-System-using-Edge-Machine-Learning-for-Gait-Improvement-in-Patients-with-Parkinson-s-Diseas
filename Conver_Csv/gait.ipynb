{
 "cells": [
  {
   "cell_type": "code",
   "execution_count": 1,
   "metadata": {},
   "outputs": [],
   "source": [
    "import pandas as pd\n",
    "\n",
    "\n",
    "\n",
    "# List of CSV file paths\n",
    "csv_files = ['0.csv','1.csv', '2.csv', '3.csv', '4.csv', '5.csv']\n",
    "\n",
    "# Initialize an empty list to store dataframes\n",
    "dataframes = []\n",
    "\n",
    "# Loop through the list of CSV file paths and read each one into a dataframe\n",
    "for file_path in csv_files:\n",
    "    df = pd.read_csv(file_path)\n",
    "    dataframes.append(df)\n",
    "\n",
    "# Now, 'dataframes' contains 5 dataframes, each corresponding to a CSV file\n",
    "# You can access them like dataframes[0], dataframes[1], ..., dataframes[4]"
   ]
  },
  {
   "cell_type": "code",
   "execution_count": 7,
   "metadata": {},
   "outputs": [
    {
     "data": {
      "text/plain": [
       "dtype('O')"
      ]
     },
     "execution_count": 7,
     "metadata": {},
     "output_type": "execute_result"
    }
   ],
   "source": [
    "dataframes[0][\"GyroZ\"].dtype"
   ]
  },
  {
   "cell_type": "code",
   "execution_count": 3,
   "metadata": {},
   "outputs": [],
   "source": [
    "\n",
    "\n",
    "\n",
    "\n",
    "\n",
    "def split_acc_gyro(df):\n",
    "    # Create an empty DataFrame to store the new data\n",
    "    new_df = pd.DataFrame(columns=['GyroX', 'GyroY', 'GyroZ'])\n",
    "\n",
    "    # Iterate through each row of the original DataFrame\n",
    "    for index, row in df.iterrows():\n",
    "        # Create two new rows by splitting the 'Acc' and 'Gyro' values\n",
    "        acc_row = pd.Series({'GyroX': row['AccX'], 'GyroY': row['AccY'], 'GyroZ': row['AccZ']})\n",
    "        gyro_row = pd.Series({'GyroX': row['GyroX'], 'GyroY': row['GyroY'], 'GyroZ': row['GyroZ']})\n",
    "\n",
    "        # Append the new rows to the new DataFrame\n",
    "        new_df = new_df.append(acc_row, ignore_index=True)\n",
    "        new_df = new_df.append(gyro_row, ignore_index=True)\n",
    "    \n",
    "    return new_df\n",
    "\n",
    "# The new DataFrame 'new_df' will have 2000 rows as desired\n"
   ]
  },
  {
   "cell_type": "code",
   "execution_count": 4,
   "metadata": {},
   "outputs": [
    {
     "data": {
      "text/html": [
       "<div>\n",
       "<style>\n",
       "    .dataframe thead tr:only-child th {\n",
       "        text-align: right;\n",
       "    }\n",
       "\n",
       "    .dataframe thead th {\n",
       "        text-align: left;\n",
       "    }\n",
       "\n",
       "    .dataframe tbody tr th {\n",
       "        vertical-align: top;\n",
       "    }\n",
       "</style>\n",
       "<table border=\"1\" class=\"dataframe\">\n",
       "  <thead>\n",
       "    <tr style=\"text-align: right;\">\n",
       "      <th></th>\n",
       "      <th>AccX</th>\n",
       "      <th>AccY</th>\n",
       "      <th>AccZ</th>\n",
       "      <th>GyroX</th>\n",
       "      <th>GyroY</th>\n",
       "      <th>GyroZ</th>\n",
       "      <th>Unnamed: 6</th>\n",
       "      <th>Unnamed: 7</th>\n",
       "      <th>Unnamed: 8</th>\n",
       "      <th>Unnamed: 9</th>\n",
       "      <th>Unnamed: 10</th>\n",
       "    </tr>\n",
       "  </thead>\n",
       "  <tbody>\n",
       "    <tr>\n",
       "      <th>0</th>\n",
       "      <td>-0.10</td>\n",
       "      <td>0.03</td>\n",
       "      <td>0.44</td>\n",
       "      <td>-0.06</td>\n",
       "      <td>0.01</td>\n",
       "      <td>0.43</td>\n",
       "      <td>NaN</td>\n",
       "      <td>NaN</td>\n",
       "      <td>NaN</td>\n",
       "      <td>NaN</td>\n",
       "      <td>NaN</td>\n",
       "    </tr>\n",
       "    <tr>\n",
       "      <th>1</th>\n",
       "      <td>-0.04</td>\n",
       "      <td>0.01</td>\n",
       "      <td>0.42</td>\n",
       "      <td>-0.01</td>\n",
       "      <td>-0.02</td>\n",
       "      <td>0.41</td>\n",
       "      <td>NaN</td>\n",
       "      <td>NaN</td>\n",
       "      <td>NaN</td>\n",
       "      <td>NaN</td>\n",
       "      <td>NaN</td>\n",
       "    </tr>\n",
       "    <tr>\n",
       "      <th>2</th>\n",
       "      <td>0.02</td>\n",
       "      <td>-0.06</td>\n",
       "      <td>0.41</td>\n",
       "      <td>0.05</td>\n",
       "      <td>-0.09</td>\n",
       "      <td>0.41</td>\n",
       "      <td>NaN</td>\n",
       "      <td>NaN</td>\n",
       "      <td>NaN</td>\n",
       "      <td>NaN</td>\n",
       "      <td>NaN</td>\n",
       "    </tr>\n",
       "    <tr>\n",
       "      <th>3</th>\n",
       "      <td>0.07</td>\n",
       "      <td>-0.11</td>\n",
       "      <td>0.42</td>\n",
       "      <td>0.09</td>\n",
       "      <td>-0.11</td>\n",
       "      <td>0.43</td>\n",
       "      <td>NaN</td>\n",
       "      <td>NaN</td>\n",
       "      <td>NaN</td>\n",
       "      <td>NaN</td>\n",
       "      <td>NaN</td>\n",
       "    </tr>\n",
       "  </tbody>\n",
       "</table>\n",
       "</div>"
      ],
      "text/plain": [
       "   AccX  AccY  AccZ  GyroX  GyroY GyroZ  Unnamed: 6  Unnamed: 7  Unnamed: 8  \\\n",
       "0 -0.10  0.03  0.44  -0.06   0.01  0.43         NaN         NaN         NaN   \n",
       "1 -0.04  0.01  0.42  -0.01  -0.02  0.41         NaN         NaN         NaN   \n",
       "2  0.02 -0.06  0.41   0.05  -0.09  0.41         NaN         NaN         NaN   \n",
       "3  0.07 -0.11  0.42   0.09  -0.11  0.43         NaN         NaN         NaN   \n",
       "\n",
       "   Unnamed: 9  Unnamed: 10  \n",
       "0         NaN          NaN  \n",
       "1         NaN          NaN  \n",
       "2         NaN          NaN  \n",
       "3         NaN          NaN  "
      ]
     },
     "execution_count": 4,
     "metadata": {},
     "output_type": "execute_result"
    }
   ],
   "source": [
    "df.head(4)"
   ]
  },
  {
   "cell_type": "code",
   "execution_count": 21,
   "metadata": {},
   "outputs": [
    {
     "data": {
      "text/html": [
       "<div>\n",
       "<style>\n",
       "    .dataframe thead tr:only-child th {\n",
       "        text-align: right;\n",
       "    }\n",
       "\n",
       "    .dataframe thead th {\n",
       "        text-align: left;\n",
       "    }\n",
       "\n",
       "    .dataframe tbody tr th {\n",
       "        vertical-align: top;\n",
       "    }\n",
       "</style>\n",
       "<table border=\"1\" class=\"dataframe\">\n",
       "  <thead>\n",
       "    <tr style=\"text-align: right;\">\n",
       "      <th></th>\n",
       "      <th>GyroX</th>\n",
       "      <th>GyroY</th>\n",
       "      <th>GyroZ</th>\n",
       "    </tr>\n",
       "  </thead>\n",
       "  <tbody>\n",
       "    <tr>\n",
       "      <th>0</th>\n",
       "      <td>-1.22</td>\n",
       "      <td>1.56</td>\n",
       "      <td>-2.79</td>\n",
       "    </tr>\n",
       "    <tr>\n",
       "      <th>1</th>\n",
       "      <td>-1.03</td>\n",
       "      <td>1.21</td>\n",
       "      <td>-2.18</td>\n",
       "    </tr>\n",
       "    <tr>\n",
       "      <th>2</th>\n",
       "      <td>-0.79</td>\n",
       "      <td>0.74</td>\n",
       "      <td>-1.41</td>\n",
       "    </tr>\n",
       "    <tr>\n",
       "      <th>3</th>\n",
       "      <td>-0.55</td>\n",
       "      <td>0.41</td>\n",
       "      <td>-0.51</td>\n",
       "    </tr>\n",
       "  </tbody>\n",
       "</table>\n",
       "</div>"
      ],
      "text/plain": [
       "   GyroX  GyroY  GyroZ\n",
       "0  -1.22   1.56  -2.79\n",
       "1  -1.03   1.21  -2.18\n",
       "2  -0.79   0.74  -1.41\n",
       "3  -0.55   0.41  -0.51"
      ]
     },
     "execution_count": 21,
     "metadata": {},
     "output_type": "execute_result"
    }
   ],
   "source": [
    "new_df.head(4)"
   ]
  },
  {
   "cell_type": "code",
   "execution_count": 5,
   "metadata": {},
   "outputs": [],
   "source": [
    "S0 = dataframes[0]\n",
    "S1 = dataframes[1]\n",
    "S2 = dataframes[2]\n",
    "S3 = dataframes[3]\n",
    "S4 = dataframes[4]\n",
    "S5 = dataframes[5]\n"
   ]
  },
  {
   "cell_type": "code",
   "execution_count": 6,
   "metadata": {},
   "outputs": [],
   "source": [
    "Sg0 = split_acc_gyro(S0)\n",
    "Sg1 = split_acc_gyro(S1)\n",
    "Sg2 = split_acc_gyro(S2)\n",
    "Sg3 = split_acc_gyro(S3)\n",
    "Sg4 = split_acc_gyro(S4)\n",
    "Sg5 = split_acc_gyro(S5)\n"
   ]
  },
  {
   "cell_type": "code",
   "execution_count": 7,
   "metadata": {},
   "outputs": [],
   "source": [
    "# Assuming df1, df2, df3, df4, and df5 are your DataFrames\n",
    "\n",
    "# List of DataFrames\n",
    "dataframes = [Sg0, Sg1, Sg2, Sg3, Sg4,Sg5]\n",
    "\n",
    "# List of file paths to save the DataFrames\n",
    "file_paths = ['file0.csv','file1.csv', 'file2.csv', 'file3.csv', 'file4.csv', 'file5.csv']\n",
    "\n",
    "# Loop through DataFrames and save each one to a CSV file\n",
    "for df, file_path in zip(dataframes, file_paths):\n",
    "    df.to_csv(file_path, index=False)\n"
   ]
  },
  {
   "cell_type": "code",
   "execution_count": 42,
   "metadata": {},
   "outputs": [],
   "source": [
    "import pandas as pd\n",
    "import math\n",
    "\n",
    "def split_dataframe(df, split_size, label):\n",
    "    # Create an empty list to store the chunks\n",
    "    chunks = []\n",
    "    rounded_value = math.floor(len(df)/split_size)\n",
    "    p=0\n",
    "\n",
    "    # Split the dataframe into chunks of the specified size\n",
    "    for i in range(0,rounded_value):\n",
    "        chunk = df.iloc[p:p+split_size].copy()  # Create a copy of the chunk\n",
    "          # Assign the specified label to the chunk\n",
    "        chunks.append(chunk)\n",
    "        p=p+100\n",
    "    s = len(chunks)\n",
    "\n",
    "    return chunks , s\n",
    "\n",
    "\n",
    "# sta , sssssa = split_dataframe(Sta,150,4)\n",
    "# tna , ssssssa = split_dataframe(Tna,150,5)\n",
    "\n",
    "s0g , sg = split_dataframe(Sg0,300,0)\n",
    "s1g , ssg = split_dataframe(Sg1,300,1)\n",
    "s2g , sssg = split_dataframe(Sg2,300,2)\n",
    "s3g , ssssg = split_dataframe(Sg3,300,3)\n",
    "s4g , sssssg = split_dataframe(Sg4,300,4)\n",
    "s5g , ssssssg = split_dataframe(Sg5,300,5)\n",
    "# stg , sssssg = split_dataframe(Stg,150,4)\n",
    "# tng , ssssssg = split_dataframe(Tng,150,5)"
   ]
  },
  {
   "cell_type": "code",
   "execution_count": 47,
   "metadata": {},
   "outputs": [],
   "source": [
    "\n",
    "merged_array_g = np.concatenate([s0g,s1g,s2g,s3g,s4g,s5g], axis=0)\n",
    "\n",
    "\n",
    "my_list_g = [0] * sg + [1] *ssg + [2]*sssg + [3]*ssssg + [4]*sssssg + [5]*ssssssg\n",
    "\n",
    "import random\n",
    "\n",
    "def suffle_pd(a,b):\n",
    "    # Define the lists to shuffle\n",
    "    list1 = a\n",
    "    list2 = b\n",
    "\n",
    "    # Zip the lists together\n",
    "    zipped = list(zip(list1, list2))\n",
    "\n",
    "    # Shuffle the zipped list\n",
    "    random.shuffle(zipped)\n",
    "\n",
    "    # Unzip the shuffled list\n",
    "    shuffled_list1, shuffled_list2 = zip(*zipped)\n",
    "    return (shuffled_list1, shuffled_list2)\n",
    "\n",
    "\n",
    "X_g,y_g = suffle_pd(merged_array_g,my_list_g)\n",
    "\n",
    "# from sklearn.preprocessing import OneHotEncoder\n",
    "# encoder = OneHotEncoder(sparse=False)\n",
    "# y_a_enc = encoder.fit_transform(np.array(y_a).reshape(-1, 1))\n",
    "# y_g_enc = encoder.transform(np.array(y_g).reshape(-1, 1))\n",
    "\n"
   ]
  },
  {
   "cell_type": "code",
   "execution_count": 48,
   "metadata": {},
   "outputs": [],
   "source": [
    "import numpy as np\n",
    "\n",
    "# Assuming X_g and y_g are NumPy arrays or lists\n",
    "X_g = np.array(X_g)  # Convert X_g to a NumPy array\n",
    "y_g_enc = np.array(y_g)  # Convert y_g to a NumPy array\n",
    "\n",
    "# Reshape X_g to have two dimensions if needed\n",
    "if X_g.ndim > 2:\n",
    "    X_g = X_g.reshape(X_g.shape[0], -1)\n",
    "\n",
    "# Reshape y_g to have a single column if needed\n",
    "if y_g_enc.ndim == 1:\n",
    "    y_g_enc = y_g_enc.reshape(-1, 1)\n",
    "\n",
    "# Merge X_g and y_g\n",
    "\n",
    "merged_data = np.concatenate((X_g, y_g_enc), axis=1)\n"
   ]
  },
  {
   "cell_type": "code",
   "execution_count": 50,
   "metadata": {},
   "outputs": [],
   "source": [
    "from sklearn.model_selection import train_test_split\n",
    "\n",
    "\n",
    "X_traing_temp, X_testg, y_traing_temp, y_testg = train_test_split(X_g, y_g_enc, test_size=0.1, random_state=42)\n",
    "# Further split the temporary set into training and validation sets\n",
    "X_traing, X_valg, y_traing, y_valg = train_test_split(X_traing_temp, y_traing_temp, test_size=0.11, random_state=42)\n",
    "\n",
    "import numpy as np\n",
    "\n",
    "X_traing = np.array(X_traing)\n",
    "X_testg = np.array(X_testg)\n",
    "X_valg = np.array(X_valg)\n",
    "y_traing = np.array(y_traing)\n",
    "y_testg = np.array(y_testg)\n",
    "y_valg = np.array(y_valg)\n"
   ]
  },
  {
   "cell_type": "code",
   "execution_count": 52,
   "metadata": {},
   "outputs": [
    {
     "data": {
      "text/plain": [
       "(900,)"
      ]
     },
     "execution_count": 52,
     "metadata": {},
     "output_type": "execute_result"
    }
   ],
   "source": [
    "X_traing[0].shape"
   ]
  },
  {
   "cell_type": "code",
   "execution_count": 55,
   "metadata": {},
   "outputs": [
    {
     "name": "stdout",
     "output_type": "stream",
     "text": [
      "Note: you may need to restart the kernel to use updated packages.\n"
     ]
    },
    {
     "name": "stderr",
     "output_type": "stream",
     "text": [
      "'c:\\Users\\Prins' is not recognized as an internal or external command,\n",
      "operable program or batch file.\n"
     ]
    }
   ],
   "source": [
    "pip install tensorflow==2.5.0\n"
   ]
  },
  {
   "cell_type": "code",
   "execution_count": 1,
   "metadata": {},
   "outputs": [
    {
     "ename": "ModuleNotFoundError",
     "evalue": "No module named 'tensorflow'",
     "output_type": "error",
     "traceback": [
      "\u001b[1;31m---------------------------------------------------------------------------\u001b[0m",
      "\u001b[1;31mModuleNotFoundError\u001b[0m                       Traceback (most recent call last)",
      "\u001b[1;32mc:\\Users\\Prins Lab\\Desktop\\Ahsan\\New folder\\gait.ipynb Cell 14\u001b[0m line \u001b[0;36m1\n\u001b[1;32m----> <a href='vscode-notebook-cell:/c%3A/Users/Prins%20Lab/Desktop/Ahsan/New%20folder/gait.ipynb#X24sZmlsZQ%3D%3D?line=0'>1</a>\u001b[0m \u001b[39mfrom\u001b[39;00m \u001b[39mtensorflow\u001b[39;00m\u001b[39m.\u001b[39;00m\u001b[39mkeras\u001b[39;00m\u001b[39m.\u001b[39;00m\u001b[39mcallbacks\u001b[39;00m \u001b[39mimport\u001b[39;00m EarlyStopping\n\u001b[0;32m      <a href='vscode-notebook-cell:/c%3A/Users/Prins%20Lab/Desktop/Ahsan/New%20folder/gait.ipynb#X24sZmlsZQ%3D%3D?line=3'>4</a>\u001b[0m \u001b[39m# build the model and train it\u001b[39;00m\n\u001b[0;32m      <a href='vscode-notebook-cell:/c%3A/Users/Prins%20Lab/Desktop/Ahsan/New%20folder/gait.ipynb#X24sZmlsZQ%3D%3D?line=4'>5</a>\u001b[0m model \u001b[39m=\u001b[39m tf\u001b[39m.\u001b[39mkeras\u001b[39m.\u001b[39mSequential()\n",
      "\u001b[1;31mModuleNotFoundError\u001b[0m: No module named 'tensorflow'"
     ]
    }
   ],
   "source": [
    "from tensorflow.keras.callbacks import EarlyStopping\n",
    "\n",
    "\n",
    "# build the model and train it\n",
    "model = tf.keras.Sequential()\n",
    "model.add(tf.keras.layers.Dense(450, input_shape=(900,),activation='relu'))\n",
    "model.add(tf.keras.layers.Dense(256, activation='relu'))\n",
    "model.add(tf.keras.layers.Dropout(0.25))\n",
    "model.add(tf.keras.layers.Dense(128, activation='relu'))\n",
    "model.add(tf.keras.layers.Dropout(0.20))\n",
    "model.add(tf.keras.layers.Dense(64, activation='relu'))\n",
    "model.add(tf.keras.layers.Dropout(0.15))\n",
    "model.add(tf.keras.layers.Dense(32, activation='relu'))\n",
    "model.add(tf.keras.layers.Dense(16, activation='relu'))\n",
    "model.add(tf.keras.layers.Dense(6, activation='softmax')) # softmax is used, because we only expect one gesture to occur per input\n",
    "model.compile(optimizer='adam', loss='mse', metrics=['accuracy'])\n",
    "\n",
    "early_stopping = EarlyStopping(\n",
    "    monitor='val_accuracy',    # Metric to monitor (validation accuracy)\n",
    "    min_delta=0.005,            # Minimum change in the monitored metric\n",
    "    patience=7,                # Number of epochs with no improvement after which training will stop\n",
    "    restore_best_weights=True  # Restore the model weights to the best achieved during training\n",
    ")\n",
    "\n",
    "history = model.fit(X_traing, y_traing, epochs=50, batch_size=1, validation_data=(X_valg, y_valg), callbacks=[early_stopping])"
   ]
  },
  {
   "cell_type": "code",
   "execution_count": null,
   "metadata": {},
   "outputs": [],
   "source": []
  },
  {
   "cell_type": "code",
   "execution_count": null,
   "metadata": {},
   "outputs": [],
   "source": []
  }
 ],
 "metadata": {
  "kernelspec": {
   "display_name": "base",
   "language": "python",
   "name": "python3"
  },
  "language_info": {
   "codemirror_mode": {
    "name": "ipython",
    "version": 3
   },
   "file_extension": ".py",
   "mimetype": "text/x-python",
   "name": "python",
   "nbconvert_exporter": "python",
   "pygments_lexer": "ipython3",
   "version": "3.6.13"
  },
  "orig_nbformat": 4
 },
 "nbformat": 4,
 "nbformat_minor": 2
}
